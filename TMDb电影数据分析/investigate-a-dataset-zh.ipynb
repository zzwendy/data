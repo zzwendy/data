{
 "cells": [
  {
   "cell_type": "markdown",
   "metadata": {},
   "source": [
    "# 项目：TMDb电影数据分析\n",
    "\n",
    "## 目录\n",
    "<ul>\n",
    "<li><a href=\"#intro\">项目描述</a></li>\n",
    "<li><a href=\"#wrangling\">数据整理</a></li>\n",
    "<li><a href=\"#eda\">探索性数据分析</a></li>\n",
    "<li><a href=\"#conclusions\">结论</a></li>\n",
    "</ul>\n",
    "\n",
    "<a id='intro'></a>\n",
    "## 项目描述\n",
    "\n",
    "\n",
    ">电影行业近年在我国鹏蓬勃发展，已成为重要的娱乐消费项目。一部好的电影也是一部好的艺术作品，除能带给观众娱乐以外，还能传达各种信息，给人思考、讨论的机会。电影行业的的发展需要观众口碑（评分）与票房的支持，同时观众口碑（评分）与票房一定程度也反映出行业内导演水平。分析电影数据有助于抓住电影市场的状况。\n",
    "\n",
    ">数据来源是Udacity提供的源自Kaggle的TMDb数据集，包括了1 万条电影的信息。\n"
   ]
  },
  {
   "cell_type": "code",
   "execution_count": 2,
   "metadata": {},
   "outputs": [],
   "source": [
    "# 用这个框对你计划使用的所有数据包进行设置\n",
    "#   导入语句。\n",
    "import pandas as pd\n",
    "import numpy as np\n",
    "import matplotlib.pyplot as plt\n",
    "import seaborn as sns\n",
    "%matplotlib inline\n"
   ]
  },
  {
   "cell_type": "markdown",
   "metadata": {},
   "source": [
    "<a id='wrangling'></a>\n",
    "## 数据整理\n",
    "\n",
    "\n",
    "### 查看分析数据"
   ]
  },
  {
   "cell_type": "code",
   "execution_count": 4,
   "metadata": {},
   "outputs": [
    {
     "data": {
      "text/html": [
       "<div>\n",
       "<style scoped>\n",
       "    .dataframe tbody tr th:only-of-type {\n",
       "        vertical-align: middle;\n",
       "    }\n",
       "\n",
       "    .dataframe tbody tr th {\n",
       "        vertical-align: top;\n",
       "    }\n",
       "\n",
       "    .dataframe thead th {\n",
       "        text-align: right;\n",
       "    }\n",
       "</style>\n",
       "<table border=\"1\" class=\"dataframe\">\n",
       "  <thead>\n",
       "    <tr style=\"text-align: right;\">\n",
       "      <th></th>\n",
       "      <th>id</th>\n",
       "      <th>imdb_id</th>\n",
       "      <th>popularity</th>\n",
       "      <th>budget</th>\n",
       "      <th>revenue</th>\n",
       "      <th>original_title</th>\n",
       "      <th>cast</th>\n",
       "      <th>homepage</th>\n",
       "      <th>director</th>\n",
       "      <th>tagline</th>\n",
       "      <th>...</th>\n",
       "      <th>overview</th>\n",
       "      <th>runtime</th>\n",
       "      <th>genres</th>\n",
       "      <th>production_companies</th>\n",
       "      <th>release_date</th>\n",
       "      <th>vote_count</th>\n",
       "      <th>vote_average</th>\n",
       "      <th>release_year</th>\n",
       "      <th>budget_adj</th>\n",
       "      <th>revenue_adj</th>\n",
       "    </tr>\n",
       "  </thead>\n",
       "  <tbody>\n",
       "    <tr>\n",
       "      <th>0</th>\n",
       "      <td>135397</td>\n",
       "      <td>tt0369610</td>\n",
       "      <td>32.985763</td>\n",
       "      <td>150000000</td>\n",
       "      <td>1513528810</td>\n",
       "      <td>Jurassic World</td>\n",
       "      <td>Chris Pratt|Bryce Dallas Howard|Irrfan Khan|Vi...</td>\n",
       "      <td>http://www.jurassicworld.com/</td>\n",
       "      <td>Colin Trevorrow</td>\n",
       "      <td>The park is open.</td>\n",
       "      <td>...</td>\n",
       "      <td>Twenty-two years after the events of Jurassic ...</td>\n",
       "      <td>124</td>\n",
       "      <td>Action|Adventure|Science Fiction|Thriller</td>\n",
       "      <td>Universal Studios|Amblin Entertainment|Legenda...</td>\n",
       "      <td>6/9/15</td>\n",
       "      <td>5562</td>\n",
       "      <td>6.5</td>\n",
       "      <td>2015</td>\n",
       "      <td>1.379999e+08</td>\n",
       "      <td>1.392446e+09</td>\n",
       "    </tr>\n",
       "    <tr>\n",
       "      <th>1</th>\n",
       "      <td>76341</td>\n",
       "      <td>tt1392190</td>\n",
       "      <td>28.419936</td>\n",
       "      <td>150000000</td>\n",
       "      <td>378436354</td>\n",
       "      <td>Mad Max: Fury Road</td>\n",
       "      <td>Tom Hardy|Charlize Theron|Hugh Keays-Byrne|Nic...</td>\n",
       "      <td>http://www.madmaxmovie.com/</td>\n",
       "      <td>George Miller</td>\n",
       "      <td>What a Lovely Day.</td>\n",
       "      <td>...</td>\n",
       "      <td>An apocalyptic story set in the furthest reach...</td>\n",
       "      <td>120</td>\n",
       "      <td>Action|Adventure|Science Fiction|Thriller</td>\n",
       "      <td>Village Roadshow Pictures|Kennedy Miller Produ...</td>\n",
       "      <td>5/13/15</td>\n",
       "      <td>6185</td>\n",
       "      <td>7.1</td>\n",
       "      <td>2015</td>\n",
       "      <td>1.379999e+08</td>\n",
       "      <td>3.481613e+08</td>\n",
       "    </tr>\n",
       "    <tr>\n",
       "      <th>2</th>\n",
       "      <td>262500</td>\n",
       "      <td>tt2908446</td>\n",
       "      <td>13.112507</td>\n",
       "      <td>110000000</td>\n",
       "      <td>295238201</td>\n",
       "      <td>Insurgent</td>\n",
       "      <td>Shailene Woodley|Theo James|Kate Winslet|Ansel...</td>\n",
       "      <td>http://www.thedivergentseries.movie/#insurgent</td>\n",
       "      <td>Robert Schwentke</td>\n",
       "      <td>One Choice Can Destroy You</td>\n",
       "      <td>...</td>\n",
       "      <td>Beatrice Prior must confront her inner demons ...</td>\n",
       "      <td>119</td>\n",
       "      <td>Adventure|Science Fiction|Thriller</td>\n",
       "      <td>Summit Entertainment|Mandeville Films|Red Wago...</td>\n",
       "      <td>3/18/15</td>\n",
       "      <td>2480</td>\n",
       "      <td>6.3</td>\n",
       "      <td>2015</td>\n",
       "      <td>1.012000e+08</td>\n",
       "      <td>2.716190e+08</td>\n",
       "    </tr>\n",
       "  </tbody>\n",
       "</table>\n",
       "<p>3 rows × 21 columns</p>\n",
       "</div>"
      ],
      "text/plain": [
       "       id    imdb_id  popularity     budget     revenue      original_title  \\\n",
       "0  135397  tt0369610   32.985763  150000000  1513528810      Jurassic World   \n",
       "1   76341  tt1392190   28.419936  150000000   378436354  Mad Max: Fury Road   \n",
       "2  262500  tt2908446   13.112507  110000000   295238201           Insurgent   \n",
       "\n",
       "                                                cast  \\\n",
       "0  Chris Pratt|Bryce Dallas Howard|Irrfan Khan|Vi...   \n",
       "1  Tom Hardy|Charlize Theron|Hugh Keays-Byrne|Nic...   \n",
       "2  Shailene Woodley|Theo James|Kate Winslet|Ansel...   \n",
       "\n",
       "                                         homepage          director  \\\n",
       "0                   http://www.jurassicworld.com/   Colin Trevorrow   \n",
       "1                     http://www.madmaxmovie.com/     George Miller   \n",
       "2  http://www.thedivergentseries.movie/#insurgent  Robert Schwentke   \n",
       "\n",
       "                      tagline      ...       \\\n",
       "0           The park is open.      ...        \n",
       "1          What a Lovely Day.      ...        \n",
       "2  One Choice Can Destroy You      ...        \n",
       "\n",
       "                                            overview runtime  \\\n",
       "0  Twenty-two years after the events of Jurassic ...     124   \n",
       "1  An apocalyptic story set in the furthest reach...     120   \n",
       "2  Beatrice Prior must confront her inner demons ...     119   \n",
       "\n",
       "                                      genres  \\\n",
       "0  Action|Adventure|Science Fiction|Thriller   \n",
       "1  Action|Adventure|Science Fiction|Thriller   \n",
       "2         Adventure|Science Fiction|Thriller   \n",
       "\n",
       "                                production_companies release_date vote_count  \\\n",
       "0  Universal Studios|Amblin Entertainment|Legenda...       6/9/15       5562   \n",
       "1  Village Roadshow Pictures|Kennedy Miller Produ...      5/13/15       6185   \n",
       "2  Summit Entertainment|Mandeville Films|Red Wago...      3/18/15       2480   \n",
       "\n",
       "   vote_average  release_year    budget_adj   revenue_adj  \n",
       "0           6.5          2015  1.379999e+08  1.392446e+09  \n",
       "1           7.1          2015  1.379999e+08  3.481613e+08  \n",
       "2           6.3          2015  1.012000e+08  2.716190e+08  \n",
       "\n",
       "[3 rows x 21 columns]"
      ]
     },
     "execution_count": 4,
     "metadata": {},
     "output_type": "execute_result"
    }
   ],
   "source": [
    "# 加载数据\n",
    "df_movies = pd.read_csv('tmdb-movies.csv')\n",
    "# 预览数据\n",
    "df_movies.head(3)"
   ]
  },
  {
   "cell_type": "code",
   "execution_count": 5,
   "metadata": {},
   "outputs": [
    {
     "name": "stdout",
     "output_type": "stream",
     "text": [
      "<class 'pandas.core.frame.DataFrame'>\n",
      "RangeIndex: 10866 entries, 0 to 10865\n",
      "Data columns (total 21 columns):\n",
      "id                      10866 non-null int64\n",
      "imdb_id                 10856 non-null object\n",
      "popularity              10866 non-null float64\n",
      "budget                  10866 non-null int64\n",
      "revenue                 10866 non-null int64\n",
      "original_title          10866 non-null object\n",
      "cast                    10790 non-null object\n",
      "homepage                2936 non-null object\n",
      "director                10822 non-null object\n",
      "tagline                 8042 non-null object\n",
      "keywords                9373 non-null object\n",
      "overview                10862 non-null object\n",
      "runtime                 10866 non-null int64\n",
      "genres                  10843 non-null object\n",
      "production_companies    9836 non-null object\n",
      "release_date            10866 non-null object\n",
      "vote_count              10866 non-null int64\n",
      "vote_average            10866 non-null float64\n",
      "release_year            10866 non-null int64\n",
      "budget_adj              10866 non-null float64\n",
      "revenue_adj             10866 non-null float64\n",
      "dtypes: float64(4), int64(6), object(11)\n",
      "memory usage: 1.7+ MB\n"
     ]
    }
   ],
   "source": [
    "#查看数据字段及是否有缺失值\n",
    "df_movies.info()"
   ]
  },
  {
   "cell_type": "markdown",
   "metadata": {},
   "source": [
    "### 理解字段意思\n",
    ">因对字段不太熟悉，所以需要把字段意思翻译成中文，先理解字段含义。字段含义借助谷歌在线翻译和百度整理,同时也百度了md列表的表示语法。\n",
    "\n",
    "    1.id: 电影的id\n",
    "    2.imdb_id: imdb id\n",
    "    3.popularity: 流行度\n",
    "    4.budget：预算\n",
    "    5.revenue：收入\n",
    "    6.original_title：片名\n",
    "    7.cast: 演员表\n",
    "    8.homepage: 电影主页\n",
    "    9.directior： 导演\n",
    "    10.tagline: 标语\n",
    "    11.keywords：关键词\n",
    "    12.overview: 影片概述\n",
    "    13.runtime：影片时长\n",
    "    14.genres：影片风格\n",
    "    15.production_companies：出品公司\n",
    "    16.release_date：发行日期\n",
    "    17.vote_count：得票总数\n",
    "    18.vote_average：平均分\n",
    "    19.release_year：发行年\n",
    "    20.budget_adj：调整预算\n",
    "    21.revenue_adj：调整收入"
   ]
  },
  {
   "cell_type": "code",
   "execution_count": 39,
   "metadata": {},
   "outputs": [
    {
     "data": {
      "text/html": [
       "<div>\n",
       "<style scoped>\n",
       "    .dataframe tbody tr th:only-of-type {\n",
       "        vertical-align: middle;\n",
       "    }\n",
       "\n",
       "    .dataframe tbody tr th {\n",
       "        vertical-align: top;\n",
       "    }\n",
       "\n",
       "    .dataframe thead th {\n",
       "        text-align: right;\n",
       "    }\n",
       "</style>\n",
       "<table border=\"1\" class=\"dataframe\">\n",
       "  <thead>\n",
       "    <tr style=\"text-align: right;\">\n",
       "      <th></th>\n",
       "      <th>id</th>\n",
       "      <th>popularity</th>\n",
       "      <th>budget</th>\n",
       "      <th>revenue</th>\n",
       "      <th>runtime</th>\n",
       "      <th>vote_count</th>\n",
       "      <th>vote_average</th>\n",
       "      <th>release_year</th>\n",
       "      <th>budget_adj</th>\n",
       "      <th>revenue_adj</th>\n",
       "    </tr>\n",
       "  </thead>\n",
       "  <tbody>\n",
       "    <tr>\n",
       "      <th>count</th>\n",
       "      <td>10866.000000</td>\n",
       "      <td>10866.000000</td>\n",
       "      <td>1.086600e+04</td>\n",
       "      <td>1.086600e+04</td>\n",
       "      <td>10866.000000</td>\n",
       "      <td>10866.000000</td>\n",
       "      <td>10866.000000</td>\n",
       "      <td>10866.000000</td>\n",
       "      <td>1.086600e+04</td>\n",
       "      <td>1.086600e+04</td>\n",
       "    </tr>\n",
       "    <tr>\n",
       "      <th>mean</th>\n",
       "      <td>66064.177434</td>\n",
       "      <td>0.646441</td>\n",
       "      <td>1.462570e+07</td>\n",
       "      <td>3.982332e+07</td>\n",
       "      <td>102.070863</td>\n",
       "      <td>217.389748</td>\n",
       "      <td>5.974922</td>\n",
       "      <td>2001.322658</td>\n",
       "      <td>1.755104e+07</td>\n",
       "      <td>5.136436e+07</td>\n",
       "    </tr>\n",
       "    <tr>\n",
       "      <th>std</th>\n",
       "      <td>92130.136561</td>\n",
       "      <td>1.000185</td>\n",
       "      <td>3.091321e+07</td>\n",
       "      <td>1.170035e+08</td>\n",
       "      <td>31.381405</td>\n",
       "      <td>575.619058</td>\n",
       "      <td>0.935142</td>\n",
       "      <td>12.812941</td>\n",
       "      <td>3.430616e+07</td>\n",
       "      <td>1.446325e+08</td>\n",
       "    </tr>\n",
       "    <tr>\n",
       "      <th>min</th>\n",
       "      <td>5.000000</td>\n",
       "      <td>0.000065</td>\n",
       "      <td>0.000000e+00</td>\n",
       "      <td>0.000000e+00</td>\n",
       "      <td>0.000000</td>\n",
       "      <td>10.000000</td>\n",
       "      <td>1.500000</td>\n",
       "      <td>1960.000000</td>\n",
       "      <td>0.000000e+00</td>\n",
       "      <td>0.000000e+00</td>\n",
       "    </tr>\n",
       "    <tr>\n",
       "      <th>25%</th>\n",
       "      <td>10596.250000</td>\n",
       "      <td>0.207583</td>\n",
       "      <td>0.000000e+00</td>\n",
       "      <td>0.000000e+00</td>\n",
       "      <td>90.000000</td>\n",
       "      <td>17.000000</td>\n",
       "      <td>5.400000</td>\n",
       "      <td>1995.000000</td>\n",
       "      <td>0.000000e+00</td>\n",
       "      <td>0.000000e+00</td>\n",
       "    </tr>\n",
       "    <tr>\n",
       "      <th>50%</th>\n",
       "      <td>20669.000000</td>\n",
       "      <td>0.383856</td>\n",
       "      <td>0.000000e+00</td>\n",
       "      <td>0.000000e+00</td>\n",
       "      <td>99.000000</td>\n",
       "      <td>38.000000</td>\n",
       "      <td>6.000000</td>\n",
       "      <td>2006.000000</td>\n",
       "      <td>0.000000e+00</td>\n",
       "      <td>0.000000e+00</td>\n",
       "    </tr>\n",
       "    <tr>\n",
       "      <th>75%</th>\n",
       "      <td>75610.000000</td>\n",
       "      <td>0.713817</td>\n",
       "      <td>1.500000e+07</td>\n",
       "      <td>2.400000e+07</td>\n",
       "      <td>111.000000</td>\n",
       "      <td>145.750000</td>\n",
       "      <td>6.600000</td>\n",
       "      <td>2011.000000</td>\n",
       "      <td>2.085325e+07</td>\n",
       "      <td>3.369710e+07</td>\n",
       "    </tr>\n",
       "    <tr>\n",
       "      <th>max</th>\n",
       "      <td>417859.000000</td>\n",
       "      <td>32.985763</td>\n",
       "      <td>4.250000e+08</td>\n",
       "      <td>2.781506e+09</td>\n",
       "      <td>900.000000</td>\n",
       "      <td>9767.000000</td>\n",
       "      <td>9.200000</td>\n",
       "      <td>2015.000000</td>\n",
       "      <td>4.250000e+08</td>\n",
       "      <td>2.827124e+09</td>\n",
       "    </tr>\n",
       "  </tbody>\n",
       "</table>\n",
       "</div>"
      ],
      "text/plain": [
       "                  id    popularity        budget       revenue       runtime  \\\n",
       "count   10866.000000  10866.000000  1.086600e+04  1.086600e+04  10866.000000   \n",
       "mean    66064.177434      0.646441  1.462570e+07  3.982332e+07    102.070863   \n",
       "std     92130.136561      1.000185  3.091321e+07  1.170035e+08     31.381405   \n",
       "min         5.000000      0.000065  0.000000e+00  0.000000e+00      0.000000   \n",
       "25%     10596.250000      0.207583  0.000000e+00  0.000000e+00     90.000000   \n",
       "50%     20669.000000      0.383856  0.000000e+00  0.000000e+00     99.000000   \n",
       "75%     75610.000000      0.713817  1.500000e+07  2.400000e+07    111.000000   \n",
       "max    417859.000000     32.985763  4.250000e+08  2.781506e+09    900.000000   \n",
       "\n",
       "         vote_count  vote_average  release_year    budget_adj   revenue_adj  \n",
       "count  10866.000000  10866.000000  10866.000000  1.086600e+04  1.086600e+04  \n",
       "mean     217.389748      5.974922   2001.322658  1.755104e+07  5.136436e+07  \n",
       "std      575.619058      0.935142     12.812941  3.430616e+07  1.446325e+08  \n",
       "min       10.000000      1.500000   1960.000000  0.000000e+00  0.000000e+00  \n",
       "25%       17.000000      5.400000   1995.000000  0.000000e+00  0.000000e+00  \n",
       "50%       38.000000      6.000000   2006.000000  0.000000e+00  0.000000e+00  \n",
       "75%      145.750000      6.600000   2011.000000  2.085325e+07  3.369710e+07  \n",
       "max     9767.000000      9.200000   2015.000000  4.250000e+08  2.827124e+09  "
      ]
     },
     "execution_count": 39,
     "metadata": {},
     "output_type": "execute_result"
    }
   ],
   "source": [
    "#使用describe查看总体数据的统计\n",
    "df_movies.describe()"
   ]
  },
  {
   "cell_type": "markdown",
   "metadata": {},
   "source": [
    ">release_year 发行年从1960开始到2015年，跨度为45年。在影片时长、预算和收入方面，均存在0的情况。"
   ]
  },
  {
   "cell_type": "markdown",
   "metadata": {},
   "source": [
    "### 提出问题\n",
    "    1.电影出产的年份和评分有什么关系？\n",
    "    2.电影出产的年份和票房又有什么关系？\n",
    "    3.导演对电影的票房、评分的影响？"
   ]
  },
  {
   "cell_type": "markdown",
   "metadata": {},
   "source": [
    "### 数据清理\n",
    ">数据清洗主要包括缺失值检查、重复值检查\n",
    "    \n",
    "    1.缺失值检查：数据中homepage、runtime、tagline、production_companies等有缺失，但不是重点关心的信息，可以忽略。\n",
    "     但director存在少量缺失，需要后续作删除相关数据处理。\n",
    "    2.重复值检查：数据中的id是每部电影的唯一识别码，需要看看有没有重复数据："
   ]
  },
  {
   "cell_type": "code",
   "execution_count": 62,
   "metadata": {},
   "outputs": [
    {
     "data": {
      "text/plain": [
       "10865"
      ]
     },
     "execution_count": 62,
     "metadata": {},
     "output_type": "execute_result"
    }
   ],
   "source": [
    "# 查看id唯一值数量\n",
    "len(df_movies.id.unique())"
   ]
  },
  {
   "cell_type": "markdown",
   "metadata": {},
   "source": [
    ">因没有重复的电影id，可初步判断没有重复电影的数据。"
   ]
  },
  {
   "cell_type": "markdown",
   "metadata": {},
   "source": [
    "<a id='eda'></a>\n",
    "## 探索性数据分析\n",
    "\n",
    "\n",
    "### 电影出产的年份和评分有什么关系？"
   ]
  },
  {
   "cell_type": "code",
   "execution_count": 63,
   "metadata": {},
   "outputs": [
    {
     "data": {
      "text/plain": [
       "Text(0,0.5,'vote_average')"
      ]
     },
     "execution_count": 63,
     "metadata": {},
     "output_type": "execute_result"
    },
    {
     "data": {
      "image/png": "[encoded data removed]",
      "text/plain": [
       "<Figure size 864x576 with 1 Axes>"
      ]
     },
     "metadata": {},
     "output_type": "display_data"
    }
   ],
   "source": [
    "#相关字段为 release_year，vote_average\n",
    "#创建电影发行年数组\n",
    "year = df_movies['release_year']\n",
    "#计算每年电影评分的平均分\n",
    "vote_year_mean = df_movies.groupby('release_year')['vote_average'].mean()\n",
    "#创建年份和评分的折线图\n",
    "vote_year_mean.plot(figsize=(12,8),title='vote_average & release_year')\n",
    "plt.ylabel('vote_average')"
   ]
  },
  {
   "cell_type": "markdown",
   "metadata": {},
   "source": [
    ">可以看出近40年来电影评分整体趋势下降，特别在1975年左右严重下滑，近年稍微有所回升。"
   ]
  },
  {
   "cell_type": "markdown",
   "metadata": {},
   "source": [
    "### 电影出产的年份和票房又有什么关系？"
   ]
  },
  {
   "cell_type": "code",
   "execution_count": 64,
   "metadata": {},
   "outputs": [
    {
     "data": {
      "text/plain": [
       "Text(0,0.5,'revenue')"
      ]
     },
     "execution_count": 64,
     "metadata": {},
     "output_type": "execute_result"
    },
    {
     "data": {
      "image/png": "[encoded data removed]",
      "text/plain": [
       "<Figure size 864x576 with 1 Axes>"
      ]
     },
     "metadata": {},
     "output_type": "display_data"
    }
   ],
   "source": [
    "# 创建每年票房revenue_adj平均数据\n",
    "revenue_mean = df_movies.groupby('release_year')['revenue_adj'].mean()\n",
    "\n",
    "#创建票房折线图\n",
    "revenue_mean.plot(figsize=(12,8),title='revenue & release_year')\n",
    "plt.ylabel('revenue')"
   ]
  },
  {
   "cell_type": "markdown",
   "metadata": {},
   "source": [
    ">从上图看出，年平均票房总体呈现下降趋势。但客观来说，随着世界经济发展，年平均票房收入趋势下降有点不合理，在此引入统计一下年产电影数量。"
   ]
  },
  {
   "cell_type": "code",
   "execution_count": 65,
   "metadata": {},
   "outputs": [],
   "source": [
    "#年产电影数量\n",
    "year_count = df_movies.groupby('release_year')['release_year'].count()"
   ]
  },
  {
   "cell_type": "code",
   "execution_count": 66,
   "metadata": {},
   "outputs": [
    {
     "data": {
      "text/plain": [
       "Text(0,0.5,'year_count')"
      ]
     },
     "execution_count": 66,
     "metadata": {},
     "output_type": "execute_result"
    },
    {
     "data": {
      "image/png": "[encoded data removed]",
      "text/plain": [
       "<Figure size 864x576 with 1 Axes>"
      ]
     },
     "metadata": {},
     "output_type": "display_data"
    }
   ],
   "source": [
    "#创建年产电影数量折线图\n",
    "year_count.plot(figsize=(12,8),title='year_count')\n",
    "plt.ylabel('year_count')"
   ]
  },
  {
   "cell_type": "markdown",
   "metadata": {},
   "source": [
    ">从图可见，年产电影的数量按年不断增长。结合前两张图表，评分一直处于下降状态。在此大胆推测，电影数量虽然大幅上升，而电影质量整体下降，导致评分也随之降低。年均票房收入也受到电影数量影响，拉低了数字。"
   ]
  },
  {
   "cell_type": "markdown",
   "metadata": {},
   "source": [
    "### 导演对电影的票房、评分的影响？"
   ]
  },
  {
   "cell_type": "markdown",
   "metadata": {},
   "source": [
    ">上两个问题分析了评分、票房和电影数量的关系。这里再看看导演，评分、票房又有什么表现？哪几位导演口碑较好？"
   ]
  },
  {
   "cell_type": "code",
   "execution_count": 13,
   "metadata": {},
   "outputs": [
    {
     "data": {
      "text/plain": [
       "0"
      ]
     },
     "execution_count": 13,
     "metadata": {},
     "output_type": "execute_result"
    }
   ],
   "source": [
    "#整理导演相关数据。从上面可知，导演字段列中存在缺失值。因导演为单独个体，无法用均值等数据代替，因此作删除处理\n",
    "df_movies['director'].dropna(inplace=True)\n",
    "#再次检查删除操作后已不存在缺失值\n",
    "sum(df_movies['director'].isnull())"
   ]
  },
  {
   "cell_type": "code",
   "execution_count": 54,
   "metadata": {},
   "outputs": [
    {
     "data": {
      "text/plain": [
       "Woody Allen                                  45\n",
       "Clint Eastwood                               34\n",
       "Martin Scorsese                              29\n",
       "Steven Spielberg                             29\n",
       "Ridley Scott                                 23\n",
       "Steven Soderbergh                            22\n",
       "Ron Howard                                   22\n",
       "Joel Schumacher                              21\n",
       "Brian De Palma                               20\n",
       "Tim Burton                                   19\n",
       "Wes Craven                                   19\n",
       "Barry Levinson                               19\n",
       "John Carpenter                               18\n",
       "Mike Nichols                                 18\n",
       "Rob Reiner                                   18\n",
       "David Cronenberg                             18\n",
       "Norman Jewison                               17\n",
       "Spike Lee                                    17\n",
       "Robert Zemeckis                              17\n",
       "Sidney Lumet                                 17\n",
       "Tyler Perry                                  17\n",
       "Stephen Frears                               17\n",
       "Renny Harlin                                 17\n",
       "Walter Hill                                  17\n",
       "Peter Hyams                                  17\n",
       "Francis Ford Coppola                         17\n",
       "Oliver Stone                                 17\n",
       "John Landis                                  16\n",
       "Roman Polanski                               16\n",
       "Blake Edwards                                16\n",
       "                                             ..\n",
       "Charles de Lauzirika                          1\n",
       "Michael Cohn                                  1\n",
       "Rob Hardy                                     1\n",
       "Takashi Miike                                 1\n",
       "J. Michael Muro                               1\n",
       "Fred Savage                                   1\n",
       "Ice-T|Andy Baybutt                            1\n",
       "David Price                                   1\n",
       "Michael Lindsay-Hogg                          1\n",
       "Levan Gabriadze                               1\n",
       "Alex Holmes                                   1\n",
       "Carles Torrens                                1\n",
       "Michael Henger|Kari Juusonen                  1\n",
       "Jennifer Yuh                                  1\n",
       "Laurieann Gibson                              1\n",
       "W.D. Richter                                  1\n",
       "Michael Benveniste|Howard Ziehm               1\n",
       "Dean Wellins                                  1\n",
       "Rajkumar Santoshi                             1\n",
       "Kirsten Sheridan                              1\n",
       "Michael Jai White                             1\n",
       "Wolfgang Murnberger                           1\n",
       "Karen Leigh Hopkins                           1\n",
       "Sam Miller                                    1\n",
       "Jill Bauer|Ronna Gradus                       1\n",
       "Steven Smith                                  1\n",
       "Brian Herzlinger                              1\n",
       "JesÃºs Salvador TreviÃ±o                      1\n",
       "Jorge Blanco|Javier Abad|Marcos MartÃ­nez     1\n",
       "Juraj Jakubisko                               1\n",
       "Name: director, Length: 5067, dtype: int64"
      ]
     },
     "execution_count": 54,
     "metadata": {},
     "output_type": "execute_result"
    }
   ],
   "source": [
    "#查看导演信息\n",
    "df_movies['director'].value_counts()"
   ]
  },
  {
   "cell_type": "markdown",
   "metadata": {},
   "source": [
    ">筛选结果看出，存在有部分电影有多个导演合作，因此需要进一步对director数据进行分裂处理。"
   ]
  },
  {
   "cell_type": "code",
   "execution_count": 64,
   "metadata": {},
   "outputs": [
    {
     "data": {
      "text/plain": [
       "Woody Allen             46\n",
       "Clint Eastwood          34\n",
       "Martin Scorsese         31\n",
       "Steven Spielberg        30\n",
       "Ridley Scott            23\n",
       "Steven Soderbergh       23\n",
       "Ron Howard              22\n",
       "Joel Schumacher         21\n",
       "Tim Burton              20\n",
       "Brian De Palma          20\n",
       "Francis Ford Coppola    19\n",
       "John Carpenter          19\n",
       "Robert Rodriguez        19\n",
       "David Cronenberg        19\n",
       "Wes Craven              19\n",
       "Barry Levinson          19\n",
       "Rob Reiner              18\n",
       "Walter Hill             18\n",
       "John Landis             18\n",
       "Mike Nichols            18\n",
       "Renny Harlin            17\n",
       "Oliver Stone            17\n",
       "Roman Polanski          17\n",
       "Joel Coen               17\n",
       "Tyler Perry             17\n",
       "Stephen Frears          17\n",
       "Sidney Lumet            17\n",
       "Norman Jewison          17\n",
       "Peter Hyams             17\n",
       "Spike Lee               17\n",
       "                        ..\n",
       "Mark Aldo Miceli         1\n",
       "Max Winkler              1\n",
       "Dan Riba                 1\n",
       "Wolf Rilla               1\n",
       "Destin Cretton           1\n",
       "Stephen Cooter           1\n",
       "Dylan Baker              1\n",
       "Sazzy Lee Calhoun        1\n",
       "Anatole Litvak           1\n",
       "Eric Steel               1\n",
       "Hong Khaou               1\n",
       "Peter Djigirr            1\n",
       "Andy Saunders            1\n",
       "Jorma Taccone            1\n",
       "Kris Pearn               1\n",
       "Giuliano Montaldo        1\n",
       "Egidio Coccimiglio       1\n",
       "Sarah Kernochan          1\n",
       "Thomas BalmÃ¨s           1\n",
       "William Crain            1\n",
       "Jeremy Gardner           1\n",
       "Merzak Allouache         1\n",
       "John Maloof              1\n",
       "Brian Brough             1\n",
       "Colin Eggleston          1\n",
       "Michael Cohn             1\n",
       "Joshua Marston           1\n",
       "Jess Manafort            1\n",
       "Bradley King             1\n",
       "David Posamentier        1\n",
       "Name: director2, Length: 5362, dtype: int64"
      ]
     },
     "execution_count": 64,
     "metadata": {},
     "output_type": "execute_result"
    }
   ],
   "source": [
    "#对director数据进行分裂处理。处理方式是参考了老师的审阅建议，Thanks♪(･ω･)ﾉ 对于split的用法我又回头看了一遍视频和练习。\n",
    "directors = df_movies['director'].str.split('|',expand = True).stack().reset_index(level = 1,drop = True).rename('director2')\n",
    "#复查是否都处理完整\n",
    "directors.value_counts()"
   ]
  },
  {
   "cell_type": "code",
   "execution_count": 67,
   "metadata": {},
   "outputs": [
    {
     "data": {
      "text/html": [
       "<div>\n",
       "<style scoped>\n",
       "    .dataframe tbody tr th:only-of-type {\n",
       "        vertical-align: middle;\n",
       "    }\n",
       "\n",
       "    .dataframe tbody tr th {\n",
       "        vertical-align: top;\n",
       "    }\n",
       "\n",
       "    .dataframe thead th {\n",
       "        text-align: right;\n",
       "    }\n",
       "</style>\n",
       "<table border=\"1\" class=\"dataframe\">\n",
       "  <thead>\n",
       "    <tr style=\"text-align: right;\">\n",
       "      <th></th>\n",
       "      <th>director</th>\n",
       "      <th>director2</th>\n",
       "      <th>id</th>\n",
       "    </tr>\n",
       "  </thead>\n",
       "  <tbody>\n",
       "    <tr>\n",
       "      <th>0</th>\n",
       "      <td>Colin Trevorrow</td>\n",
       "      <td>Colin Trevorrow</td>\n",
       "      <td>135397</td>\n",
       "    </tr>\n",
       "    <tr>\n",
       "      <th>1</th>\n",
       "      <td>George Miller</td>\n",
       "      <td>George Miller</td>\n",
       "      <td>76341</td>\n",
       "    </tr>\n",
       "    <tr>\n",
       "      <th>2</th>\n",
       "      <td>Robert Schwentke</td>\n",
       "      <td>Robert Schwentke</td>\n",
       "      <td>262500</td>\n",
       "    </tr>\n",
       "    <tr>\n",
       "      <th>3</th>\n",
       "      <td>J.J. Abrams</td>\n",
       "      <td>J.J. Abrams</td>\n",
       "      <td>140607</td>\n",
       "    </tr>\n",
       "    <tr>\n",
       "      <th>4</th>\n",
       "      <td>James Wan</td>\n",
       "      <td>James Wan</td>\n",
       "      <td>168259</td>\n",
       "    </tr>\n",
       "    <tr>\n",
       "      <th>5</th>\n",
       "      <td>Alejandro GonzÃ¡lez IÃ±Ã¡rritu</td>\n",
       "      <td>Alejandro GonzÃ¡lez IÃ±Ã¡rritu</td>\n",
       "      <td>281957</td>\n",
       "    </tr>\n",
       "    <tr>\n",
       "      <th>6</th>\n",
       "      <td>Alan Taylor</td>\n",
       "      <td>Alan Taylor</td>\n",
       "      <td>87101</td>\n",
       "    </tr>\n",
       "    <tr>\n",
       "      <th>7</th>\n",
       "      <td>Ridley Scott</td>\n",
       "      <td>Ridley Scott</td>\n",
       "      <td>286217</td>\n",
       "    </tr>\n",
       "    <tr>\n",
       "      <th>8</th>\n",
       "      <td>Kyle Balda|Pierre Coffin</td>\n",
       "      <td>Kyle Balda</td>\n",
       "      <td>211672</td>\n",
       "    </tr>\n",
       "    <tr>\n",
       "      <th>8</th>\n",
       "      <td>Kyle Balda|Pierre Coffin</td>\n",
       "      <td>Pierre Coffin</td>\n",
       "      <td>211672</td>\n",
       "    </tr>\n",
       "    <tr>\n",
       "      <th>9</th>\n",
       "      <td>Pete Docter</td>\n",
       "      <td>Pete Docter</td>\n",
       "      <td>150540</td>\n",
       "    </tr>\n",
       "    <tr>\n",
       "      <th>10</th>\n",
       "      <td>Sam Mendes</td>\n",
       "      <td>Sam Mendes</td>\n",
       "      <td>206647</td>\n",
       "    </tr>\n",
       "    <tr>\n",
       "      <th>11</th>\n",
       "      <td>Lana Wachowski|Lilly Wachowski</td>\n",
       "      <td>Lana Wachowski</td>\n",
       "      <td>76757</td>\n",
       "    </tr>\n",
       "    <tr>\n",
       "      <th>11</th>\n",
       "      <td>Lana Wachowski|Lilly Wachowski</td>\n",
       "      <td>Lilly Wachowski</td>\n",
       "      <td>76757</td>\n",
       "    </tr>\n",
       "    <tr>\n",
       "      <th>12</th>\n",
       "      <td>Alex Garland</td>\n",
       "      <td>Alex Garland</td>\n",
       "      <td>264660</td>\n",
       "    </tr>\n",
       "    <tr>\n",
       "      <th>13</th>\n",
       "      <td>Chris Columbus</td>\n",
       "      <td>Chris Columbus</td>\n",
       "      <td>257344</td>\n",
       "    </tr>\n",
       "    <tr>\n",
       "      <th>14</th>\n",
       "      <td>Joss Whedon</td>\n",
       "      <td>Joss Whedon</td>\n",
       "      <td>99861</td>\n",
       "    </tr>\n",
       "    <tr>\n",
       "      <th>15</th>\n",
       "      <td>Quentin Tarantino</td>\n",
       "      <td>Quentin Tarantino</td>\n",
       "      <td>273248</td>\n",
       "    </tr>\n",
       "    <tr>\n",
       "      <th>16</th>\n",
       "      <td>Olivier Megaton</td>\n",
       "      <td>Olivier Megaton</td>\n",
       "      <td>260346</td>\n",
       "    </tr>\n",
       "    <tr>\n",
       "      <th>17</th>\n",
       "      <td>Peyton Reed</td>\n",
       "      <td>Peyton Reed</td>\n",
       "      <td>102899</td>\n",
       "    </tr>\n",
       "  </tbody>\n",
       "</table>\n",
       "</div>"
      ],
      "text/plain": [
       "                          director                       director2      id\n",
       "0                  Colin Trevorrow                 Colin Trevorrow  135397\n",
       "1                    George Miller                   George Miller   76341\n",
       "2                 Robert Schwentke                Robert Schwentke  262500\n",
       "3                      J.J. Abrams                     J.J. Abrams  140607\n",
       "4                        James Wan                       James Wan  168259\n",
       "5   Alejandro GonzÃ¡lez IÃ±Ã¡rritu  Alejandro GonzÃ¡lez IÃ±Ã¡rritu  281957\n",
       "6                      Alan Taylor                     Alan Taylor   87101\n",
       "7                     Ridley Scott                    Ridley Scott  286217\n",
       "8         Kyle Balda|Pierre Coffin                      Kyle Balda  211672\n",
       "8         Kyle Balda|Pierre Coffin                   Pierre Coffin  211672\n",
       "9                      Pete Docter                     Pete Docter  150540\n",
       "10                      Sam Mendes                      Sam Mendes  206647\n",
       "11  Lana Wachowski|Lilly Wachowski                  Lana Wachowski   76757\n",
       "11  Lana Wachowski|Lilly Wachowski                 Lilly Wachowski   76757\n",
       "12                    Alex Garland                    Alex Garland  264660\n",
       "13                  Chris Columbus                  Chris Columbus  257344\n",
       "14                     Joss Whedon                     Joss Whedon   99861\n",
       "15               Quentin Tarantino               Quentin Tarantino  273248\n",
       "16                 Olivier Megaton                 Olivier Megaton  260346\n",
       "17                     Peyton Reed                     Peyton Reed  102899"
      ]
     },
     "execution_count": 67,
     "metadata": {},
     "output_type": "execute_result"
    }
   ],
   "source": [
    "#对新列进行合并操作.处理方式是参考了老师的审阅建议\n",
    "new_df_movies = df_movies.join(directors)\n",
    "new_df_movies[['director','director2','id']].head(20)"
   ]
  },
  {
   "cell_type": "code",
   "execution_count": 74,
   "metadata": {},
   "outputs": [
    {
     "data": {
      "text/plain": [
       "Text(0,0.5,'vote freq')"
      ]
     },
     "execution_count": 74,
     "metadata": {},
     "output_type": "execute_result"
    },
    {
     "data": {
      "image/png": "[encoded data removed]",
      "text/plain": [
       "<Figure size 864x576 with 1 Axes>"
      ]
     },
     "metadata": {},
     "output_type": "display_data"
    }
   ],
   "source": [
    "#全体导演的平均评分\n",
    "director_vote = new_df_movies.groupby('director2')['vote_average'].mean()\n",
    "director_vote.plot(kind='hist',figsize=(12,8),title='director & vote')\n",
    "plt.xlabel('vote')\n",
    "plt.ylabel('vote freq')"
   ]
  },
  {
   "cell_type": "markdown",
   "metadata": {},
   "source": [
    ">普遍导演评分都集中在5.5 - 7之间。"
   ]
  },
  {
   "cell_type": "code",
   "execution_count": 79,
   "metadata": {},
   "outputs": [
    {
     "data": {
      "text/plain": [
       "Text(0,0.5,'revenue freq')"
      ]
     },
     "execution_count": 79,
     "metadata": {},
     "output_type": "execute_result"
    },
    {
     "data": {
      "image/png": "[encoded data removed]",
      "text/plain": [
       "<Figure size 864x576 with 1 Axes>"
      ]
     },
     "metadata": {},
     "output_type": "display_data"
    }
   ],
   "source": [
    "#导演个人的平均票房\n",
    "director_revenue = new_df_movies.groupby('director2')['revenue_adj'].mean()\n",
    "director_revenue.plot(kind='hist',figsize=(12,8),title='director & revenue',bins=50)\n",
    "plt.xlabel('revenue')\n",
    "plt.ylabel('revenue freq')"
   ]
  },
  {
   "cell_type": "markdown",
   "metadata": {},
   "source": [
    ">票房集中于某些导演身上。不妨分别看看票房收入最高、评分最高的5位导演是谁。"
   ]
  },
  {
   "cell_type": "code",
   "execution_count": 82,
   "metadata": {},
   "outputs": [
    {
     "data": {
      "text/plain": [
       "director2\n",
       "Pierre Coffin     8.387905e+08\n",
       "Lee Unkrich       8.540177e+08\n",
       "George Lucas      1.052320e+09\n",
       "Clyde Geronimi    1.574815e+09\n",
       "Hamilton Luske    1.574815e+09\n",
       "Name: revenue_adj, dtype: float64"
      ]
     },
     "execution_count": 82,
     "metadata": {},
     "output_type": "execute_result"
    }
   ],
   "source": [
    "#找出票房收入最高的5位导演\n",
    "top5_directors =  director_revenue.sort_values().tail(5)\n",
    "top5_directors"
   ]
  },
  {
   "cell_type": "code",
   "execution_count": 83,
   "metadata": {},
   "outputs": [
    {
     "data": {
      "text/plain": [
       "<matplotlib.axes._subplots.AxesSubplot at 0xc6fa7b9cf8>"
      ]
     },
     "execution_count": 83,
     "metadata": {},
     "output_type": "execute_result"
    },
    {
     "data": {
      "image/png": "[encoded data removed]",
      "text/plain": [
       "<Figure size 864x576 with 1 Axes>"
      ]
     },
     "metadata": {},
     "output_type": "display_data"
    }
   ],
   "source": [
    "# top5_directors\n",
    "top5_directors.plot(kind='barh',figsize=(12,8),title='director top5 revenue')"
   ]
  },
  {
   "cell_type": "code",
   "execution_count": 87,
   "metadata": {},
   "outputs": [
    {
     "data": {
      "text/plain": [
       "director2\n",
       "Saul Swimmer        8.5\n",
       "James Payne         8.5\n",
       "David Mallet        8.7\n",
       "Derek Frankowski    8.8\n",
       "Mark Cousins        9.2\n",
       "Name: vote_average, dtype: float64"
      ]
     },
     "execution_count": 87,
     "metadata": {},
     "output_type": "execute_result"
    }
   ],
   "source": [
    "#找出平均评分最高的5位导演\n",
    "top5_vote_directors =  director_vote.sort_values().tail(5)\n",
    "top5_vote_directors"
   ]
  },
  {
   "cell_type": "code",
   "execution_count": 85,
   "metadata": {},
   "outputs": [
    {
     "data": {
      "text/plain": [
       "<matplotlib.axes._subplots.AxesSubplot at 0xc6fadd6ac8>"
      ]
     },
     "execution_count": 85,
     "metadata": {},
     "output_type": "execute_result"
    },
    {
     "data": {
      "image/png": "[encoded data removed]",
      "text/plain": [
       "<Figure size 864x576 with 1 Axes>"
      ]
     },
     "metadata": {},
     "output_type": "display_data"
    }
   ],
   "source": [
    "# top5_vote_directors\n",
    "top5_vote_directors.plot(kind='barh',figsize=(12,8),title='director top5 vote')"
   ]
  },
  {
   "cell_type": "markdown",
   "metadata": {},
   "source": [
    ">从上两图得出结果，票房收入最高的5位导演与评分最高的5位导演，完全没有重合。大胆推测，导演的口碑好坏并不一定是票房保证。"
   ]
  },
  {
   "cell_type": "markdown",
   "metadata": {},
   "source": [
    "<a id='conclusions'></a>\n",
    "## 结论\n",
    "结合以上分析，总结得出以下几点：\n",
    "    \n",
    "    1.电影数量虽然大幅上升，而电影质量整体下降，导致评分也随之降低。年均票房收入也受到电影数量影响，拉低了数字。\n",
    "    2.票房集中于某些导演身上。\n",
    "    3.导演的口碑好坏并不一定是票房保证。\n",
    "此次分析程度较浅，仅从评分、票房、导演角度出发看问题。且数据集是从世界电影角度收集，分析整体局面，分析出来的结论也许对局部国家地区不适用。\n",
    "此次遇到比较大困难是图表的创建和类型选择，其次是对pandas的方法运用未够灵活，希望后续继续学习，加强练习，对matplotlib、pandas运用更上手。"
   ]
  },
  {
   "cell_type": "code",
   "execution_count": 88,
   "metadata": {},
   "outputs": [
    {
     "data": {
      "text/plain": [
       "4294967295"
      ]
     },
     "execution_count": 88,
     "metadata": {},
     "output_type": "execute_result"
    }
   ],
   "source": [
    "from subprocess import call\n",
    "call(['python', '-m', 'nbconvert', 'Investigate_a_Dataset.ipynb'])"
   ]
  },
  {
   "cell_type": "code",
   "execution_count": null,
   "metadata": {},
   "outputs": [],
   "source": []
  }
 ],
 "metadata": {
  "kernelspec": {
   "display_name": "Python 3",
   "language": "python",
   "name": "python3"
  },
  "language_info": {
   "codemirror_mode": {
    "name": "ipython",
    "version": 3
   },
   "file_extension": ".py",
   "mimetype": "text/x-python",
   "name": "python",
   "nbconvert_exporter": "python",
   "pygments_lexer": "ipython3",
   "version": "3.6.5"
  }
 },
 "nbformat": 4,
 "nbformat_minor": 2
}
